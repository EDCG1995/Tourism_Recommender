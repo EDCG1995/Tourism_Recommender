{
 "cells": [
  {
   "cell_type": "code",
   "execution_count": 116,
   "metadata": {
    "collapsed": true,
    "ExecuteTime": {
     "start_time": "2023-04-03T17:37:28.726834Z",
     "end_time": "2023-04-03T17:37:28.756831Z"
    }
   },
   "outputs": [],
   "source": [
    "import pandas as pd\n",
    "import numpy as np"
   ]
  },
  {
   "cell_type": "code",
   "execution_count": 117,
   "outputs": [
    {
     "data": {
      "text/plain": "(831, 13)"
     },
     "execution_count": 117,
     "metadata": {},
     "output_type": "execute_result"
    }
   ],
   "source": [
    "data = pd.read_csv('LocationsDBx.csv')\n",
    "data.head(20)\n",
    "data.shape"
   ],
   "metadata": {
    "collapsed": false,
    "ExecuteTime": {
     "start_time": "2023-04-03T17:37:28.738832Z",
     "end_time": "2023-04-03T17:37:28.819888Z"
    }
   }
  },
  {
   "cell_type": "code",
   "execution_count": 118,
   "outputs": [],
   "source": [
    "\n",
    "#remove rows where categories contain 'Private Tours'\n",
    "data = data[~data['Categories'].str.contains('Private Tours')]"
   ],
   "metadata": {
    "collapsed": false,
    "ExecuteTime": {
     "start_time": "2023-04-03T17:37:28.768843Z",
     "end_time": "2023-04-03T17:37:28.872738Z"
    }
   }
  },
  {
   "cell_type": "code",
   "execution_count": 119,
   "outputs": [
    {
     "data": {
      "text/plain": "    ID                                              Title  \\\n0    1                             Kilmainham Gaol Museum   \n1    7                         Jameson Distillery Bow St.   \n2    8  Experience Glasnevin - Ireland's National Ceme...   \n3    9   The Book of Kells and the Old Library Exhibition   \n4    5                               Irish Whiskey Museum   \n5    6                                  St Stephens Green   \n6   10                            Killarney National Park   \n7    4                                    Cliffs of Moher   \n9   17                                       Spike Island   \n10   3                                Guinness Storehouse   \n11   2                        The Little Museum of Dublin   \n13  18                                14 Henrietta Street   \n14  16                                     Chester Beatty   \n15  28                        Troggs Surf School Portrush   \n16  29                               Causeway Coasteering   \n17  15                                         Temple Bar   \n18  27                                     Tours of Derry   \n19  25                               Portrush Surf School   \n20  26                            Ulster Aviation Society   \n21  22                                   Alive Adventures   \n\n                                                About  Score  \\\n0   This bleak old jail was notorious in the 19th ...    4.5   \n1   Since John Jameson's brave first steps into th...    4.5   \n2   The stories of 1.5 million people are faithful...    4.5   \n3   The Book of Kells Exhibition is a must-see on ...    4.5   \n4   Irish whiskey is fast becoming one of the most...    5.0   \n5   Beautiful urban park immortalized in James Joy...    4.5   \n6                                                 NaN    5.0   \n7   Spectacular cliffs stretching 700 feet over th...    4.5   \n9   Discover Ireland's Captains & Convicts and Sin...    5.0   \n10  Say cheers at the Guinness Storehouse in Dubli...    4.5   \n11  Discover the amazing story of Dublin in this q...    4.5   \n13  WINNER OF THE EUROPEAN MUSEUM OF THE YEAR SILL...    5.0   \n14  FREE Admission. Described by Lonely Planet as ...    4.5   \n15                                                NaN    5.0   \n16                                                NaN    5.0   \n17  Funky shops, eclectic cafes and hordes of styl...    4.0   \n18                                                NaN    5.0   \n19                                                NaN    5.0   \n20  WHO ARE WE? A charitable society that is a div...    5.0   \n21                                                NaN    5.0   \n\n                                           Categories  \\\n0                 Speciality Museums • Historic Sites   \n1                                        Distilleries   \n2                     Speciality Museums • Cemeteries   \n3          Points of Interest & Landmarks • Libraries   \n4                                  Speciality Museums   \n5                                               Parks   \n6                                      National Parks   \n7   Points of Interest & Landmarks • Lookouts • Ge...   \n9                                             Islands   \n10                Speciality Museums • Historic Sites   \n11               Speciality Museums • History Museums   \n13                   Historic Sites • History Museums   \n14                                        Art Museums   \n15  Surfing & Windsurfing • Equipment Hire • Stand...   \n16                         Adrenaline & Extreme Tours   \n17    Neighbourhoods • Points of Interest & Landmarks   \n18  City Tours • Historical & Heritage Tours • Wal...   \n19    Surfing & Windsurfing • Stand Up Paddleboarding   \n20                                 Speciality Museums   \n21                              Surfing & Windsurfing   \n\n                                              img_url      1      2      3  \\\n0   https://dynamic-media-cdn.tripadvisor.com/medi...    234    259  1,231   \n1   https://dynamic-media-cdn.tripadvisor.com/medi...    165    271    861   \n2   https://dynamic-media-cdn.tripadvisor.com/medi...     16     33    246   \n3   https://dynamic-media-cdn.tripadvisor.com/medi...    344    775  2,940   \n4   https://dynamic-media-cdn.tripadvisor.com/medi...     54     62    286   \n5   https://dynamic-media-cdn.tripadvisor.com/medi...     35     65    997   \n6   https://dynamic-media-cdn.tripadvisor.com/medi...     10      7     86   \n7   https://dynamic-media-cdn.tripadvisor.com/medi...    187    184    663   \n9   https://dynamic-media-cdn.tripadvisor.com/medi...     31     12     49   \n10  https://dynamic-media-cdn.tripadvisor.com/medi...  1,124  1,933  5,938   \n11  https://dynamic-media-cdn.tripadvisor.com/medi...     60    144    470   \n13  https://dynamic-media-cdn.tripadvisor.com/medi...      5      4     13   \n14  https://dynamic-media-cdn.tripadvisor.com/medi...      7     26    156   \n15  https://dynamic-media-cdn.tripadvisor.com/medi...      0      0      0   \n16  https://dynamic-media-cdn.tripadvisor.com/medi...      0      0      0   \n17  https://dynamic-media-cdn.tripadvisor.com/medi...    559    783  2,642   \n18  https://dynamic-media-cdn.tripadvisor.com/medi...      0      0      0   \n19  https://dynamic-media-cdn.tripadvisor.com/medi...      0      0      0   \n20  https://dynamic-media-cdn.tripadvisor.com/medi...      0      0      0   \n21  https://dynamic-media-cdn.tripadvisor.com/medi...      0      2      1   \n\n         4       5 total_reviews  \\\n0    5,926  19,627        27,277   \n1    2,757   7,394        11,445   \n2    1,182   5,660         7,135   \n3    6,392  13,242        23,691   \n4    1,286   9,377        11,064   \n5    5,345  10,434        16,876   \n6    1,067   6,118         7,288   \n7    2,322  11,174        14,530   \n9      460   2,457         3,008   \n10  12,947  25,980        47,919   \n11   1,839  10,706        13,215   \n13      77   1,317         1,414   \n14     891   3,028         4,108   \n15       3     154           157   \n16       2     216           218   \n17   6,480  10,331        20,795   \n18       3     204           207   \n19       4     231           235   \n20       6     417           423   \n21      13     704           720   \n\n                                               TA_url  \n0   https://www.tripadvisor.ie/Attraction_Review-g...  \n1   https://www.tripadvisor.ie/Attraction_Review-g...  \n2   https://www.tripadvisor.ie/Attraction_Review-g...  \n3   https://www.tripadvisor.ie/Attraction_Review-g...  \n4   https://www.tripadvisor.ie/Attraction_Review-g...  \n5   https://www.tripadvisor.ie/Attraction_Review-g...  \n6   https://www.tripadvisor.ie/Attraction_Review-g...  \n7   https://www.tripadvisor.ie/Attraction_Review-g...  \n9   https://www.tripadvisor.ie/Attraction_Review-g...  \n10  https://www.tripadvisor.ie/Attraction_Review-g...  \n11  https://www.tripadvisor.ie/Attraction_Review-g...  \n13  https://www.tripadvisor.ie/Attraction_Review-g...  \n14  https://www.tripadvisor.ie/Attraction_Review-g...  \n15  https://www.tripadvisor.ie/Attraction_Review-g...  \n16  https://www.tripadvisor.ie/Attraction_Review-g...  \n17  https://www.tripadvisor.ie/Attraction_Review-g...  \n18  https://www.tripadvisor.ie/Attraction_Review-g...  \n19  https://www.tripadvisor.ie/Attraction_Review-g...  \n20  https://www.tripadvisor.ie/Attraction_Review-g...  \n21  https://www.tripadvisor.ie/Attraction_Review-g...  ",
      "text/html": "<div>\n<style scoped>\n    .dataframe tbody tr th:only-of-type {\n        vertical-align: middle;\n    }\n\n    .dataframe tbody tr th {\n        vertical-align: top;\n    }\n\n    .dataframe thead th {\n        text-align: right;\n    }\n</style>\n<table border=\"1\" class=\"dataframe\">\n  <thead>\n    <tr style=\"text-align: right;\">\n      <th></th>\n      <th>ID</th>\n      <th>Title</th>\n      <th>About</th>\n      <th>Score</th>\n      <th>Categories</th>\n      <th>img_url</th>\n      <th>1</th>\n      <th>2</th>\n      <th>3</th>\n      <th>4</th>\n      <th>5</th>\n      <th>total_reviews</th>\n      <th>TA_url</th>\n    </tr>\n  </thead>\n  <tbody>\n    <tr>\n      <th>0</th>\n      <td>1</td>\n      <td>Kilmainham Gaol Museum</td>\n      <td>This bleak old jail was notorious in the 19th ...</td>\n      <td>4.5</td>\n      <td>Speciality Museums • Historic Sites</td>\n      <td>https://dynamic-media-cdn.tripadvisor.com/medi...</td>\n      <td>234</td>\n      <td>259</td>\n      <td>1,231</td>\n      <td>5,926</td>\n      <td>19,627</td>\n      <td>27,277</td>\n      <td>https://www.tripadvisor.ie/Attraction_Review-g...</td>\n    </tr>\n    <tr>\n      <th>1</th>\n      <td>7</td>\n      <td>Jameson Distillery Bow St.</td>\n      <td>Since John Jameson's brave first steps into th...</td>\n      <td>4.5</td>\n      <td>Distilleries</td>\n      <td>https://dynamic-media-cdn.tripadvisor.com/medi...</td>\n      <td>165</td>\n      <td>271</td>\n      <td>861</td>\n      <td>2,757</td>\n      <td>7,394</td>\n      <td>11,445</td>\n      <td>https://www.tripadvisor.ie/Attraction_Review-g...</td>\n    </tr>\n    <tr>\n      <th>2</th>\n      <td>8</td>\n      <td>Experience Glasnevin - Ireland's National Ceme...</td>\n      <td>The stories of 1.5 million people are faithful...</td>\n      <td>4.5</td>\n      <td>Speciality Museums • Cemeteries</td>\n      <td>https://dynamic-media-cdn.tripadvisor.com/medi...</td>\n      <td>16</td>\n      <td>33</td>\n      <td>246</td>\n      <td>1,182</td>\n      <td>5,660</td>\n      <td>7,135</td>\n      <td>https://www.tripadvisor.ie/Attraction_Review-g...</td>\n    </tr>\n    <tr>\n      <th>3</th>\n      <td>9</td>\n      <td>The Book of Kells and the Old Library Exhibition</td>\n      <td>The Book of Kells Exhibition is a must-see on ...</td>\n      <td>4.5</td>\n      <td>Points of Interest &amp; Landmarks • Libraries</td>\n      <td>https://dynamic-media-cdn.tripadvisor.com/medi...</td>\n      <td>344</td>\n      <td>775</td>\n      <td>2,940</td>\n      <td>6,392</td>\n      <td>13,242</td>\n      <td>23,691</td>\n      <td>https://www.tripadvisor.ie/Attraction_Review-g...</td>\n    </tr>\n    <tr>\n      <th>4</th>\n      <td>5</td>\n      <td>Irish Whiskey Museum</td>\n      <td>Irish whiskey is fast becoming one of the most...</td>\n      <td>5.0</td>\n      <td>Speciality Museums</td>\n      <td>https://dynamic-media-cdn.tripadvisor.com/medi...</td>\n      <td>54</td>\n      <td>62</td>\n      <td>286</td>\n      <td>1,286</td>\n      <td>9,377</td>\n      <td>11,064</td>\n      <td>https://www.tripadvisor.ie/Attraction_Review-g...</td>\n    </tr>\n    <tr>\n      <th>5</th>\n      <td>6</td>\n      <td>St Stephens Green</td>\n      <td>Beautiful urban park immortalized in James Joy...</td>\n      <td>4.5</td>\n      <td>Parks</td>\n      <td>https://dynamic-media-cdn.tripadvisor.com/medi...</td>\n      <td>35</td>\n      <td>65</td>\n      <td>997</td>\n      <td>5,345</td>\n      <td>10,434</td>\n      <td>16,876</td>\n      <td>https://www.tripadvisor.ie/Attraction_Review-g...</td>\n    </tr>\n    <tr>\n      <th>6</th>\n      <td>10</td>\n      <td>Killarney National Park</td>\n      <td>NaN</td>\n      <td>5.0</td>\n      <td>National Parks</td>\n      <td>https://dynamic-media-cdn.tripadvisor.com/medi...</td>\n      <td>10</td>\n      <td>7</td>\n      <td>86</td>\n      <td>1,067</td>\n      <td>6,118</td>\n      <td>7,288</td>\n      <td>https://www.tripadvisor.ie/Attraction_Review-g...</td>\n    </tr>\n    <tr>\n      <th>7</th>\n      <td>4</td>\n      <td>Cliffs of Moher</td>\n      <td>Spectacular cliffs stretching 700 feet over th...</td>\n      <td>4.5</td>\n      <td>Points of Interest &amp; Landmarks • Lookouts • Ge...</td>\n      <td>https://dynamic-media-cdn.tripadvisor.com/medi...</td>\n      <td>187</td>\n      <td>184</td>\n      <td>663</td>\n      <td>2,322</td>\n      <td>11,174</td>\n      <td>14,530</td>\n      <td>https://www.tripadvisor.ie/Attraction_Review-g...</td>\n    </tr>\n    <tr>\n      <th>9</th>\n      <td>17</td>\n      <td>Spike Island</td>\n      <td>Discover Ireland's Captains &amp; Convicts and Sin...</td>\n      <td>5.0</td>\n      <td>Islands</td>\n      <td>https://dynamic-media-cdn.tripadvisor.com/medi...</td>\n      <td>31</td>\n      <td>12</td>\n      <td>49</td>\n      <td>460</td>\n      <td>2,457</td>\n      <td>3,008</td>\n      <td>https://www.tripadvisor.ie/Attraction_Review-g...</td>\n    </tr>\n    <tr>\n      <th>10</th>\n      <td>3</td>\n      <td>Guinness Storehouse</td>\n      <td>Say cheers at the Guinness Storehouse in Dubli...</td>\n      <td>4.5</td>\n      <td>Speciality Museums • Historic Sites</td>\n      <td>https://dynamic-media-cdn.tripadvisor.com/medi...</td>\n      <td>1,124</td>\n      <td>1,933</td>\n      <td>5,938</td>\n      <td>12,947</td>\n      <td>25,980</td>\n      <td>47,919</td>\n      <td>https://www.tripadvisor.ie/Attraction_Review-g...</td>\n    </tr>\n    <tr>\n      <th>11</th>\n      <td>2</td>\n      <td>The Little Museum of Dublin</td>\n      <td>Discover the amazing story of Dublin in this q...</td>\n      <td>4.5</td>\n      <td>Speciality Museums • History Museums</td>\n      <td>https://dynamic-media-cdn.tripadvisor.com/medi...</td>\n      <td>60</td>\n      <td>144</td>\n      <td>470</td>\n      <td>1,839</td>\n      <td>10,706</td>\n      <td>13,215</td>\n      <td>https://www.tripadvisor.ie/Attraction_Review-g...</td>\n    </tr>\n    <tr>\n      <th>13</th>\n      <td>18</td>\n      <td>14 Henrietta Street</td>\n      <td>WINNER OF THE EUROPEAN MUSEUM OF THE YEAR SILL...</td>\n      <td>5.0</td>\n      <td>Historic Sites • History Museums</td>\n      <td>https://dynamic-media-cdn.tripadvisor.com/medi...</td>\n      <td>5</td>\n      <td>4</td>\n      <td>13</td>\n      <td>77</td>\n      <td>1,317</td>\n      <td>1,414</td>\n      <td>https://www.tripadvisor.ie/Attraction_Review-g...</td>\n    </tr>\n    <tr>\n      <th>14</th>\n      <td>16</td>\n      <td>Chester Beatty</td>\n      <td>FREE Admission. Described by Lonely Planet as ...</td>\n      <td>4.5</td>\n      <td>Art Museums</td>\n      <td>https://dynamic-media-cdn.tripadvisor.com/medi...</td>\n      <td>7</td>\n      <td>26</td>\n      <td>156</td>\n      <td>891</td>\n      <td>3,028</td>\n      <td>4,108</td>\n      <td>https://www.tripadvisor.ie/Attraction_Review-g...</td>\n    </tr>\n    <tr>\n      <th>15</th>\n      <td>28</td>\n      <td>Troggs Surf School Portrush</td>\n      <td>NaN</td>\n      <td>5.0</td>\n      <td>Surfing &amp; Windsurfing • Equipment Hire • Stand...</td>\n      <td>https://dynamic-media-cdn.tripadvisor.com/medi...</td>\n      <td>0</td>\n      <td>0</td>\n      <td>0</td>\n      <td>3</td>\n      <td>154</td>\n      <td>157</td>\n      <td>https://www.tripadvisor.ie/Attraction_Review-g...</td>\n    </tr>\n    <tr>\n      <th>16</th>\n      <td>29</td>\n      <td>Causeway Coasteering</td>\n      <td>NaN</td>\n      <td>5.0</td>\n      <td>Adrenaline &amp; Extreme Tours</td>\n      <td>https://dynamic-media-cdn.tripadvisor.com/medi...</td>\n      <td>0</td>\n      <td>0</td>\n      <td>0</td>\n      <td>2</td>\n      <td>216</td>\n      <td>218</td>\n      <td>https://www.tripadvisor.ie/Attraction_Review-g...</td>\n    </tr>\n    <tr>\n      <th>17</th>\n      <td>15</td>\n      <td>Temple Bar</td>\n      <td>Funky shops, eclectic cafes and hordes of styl...</td>\n      <td>4.0</td>\n      <td>Neighbourhoods • Points of Interest &amp; Landmarks</td>\n      <td>https://dynamic-media-cdn.tripadvisor.com/medi...</td>\n      <td>559</td>\n      <td>783</td>\n      <td>2,642</td>\n      <td>6,480</td>\n      <td>10,331</td>\n      <td>20,795</td>\n      <td>https://www.tripadvisor.ie/Attraction_Review-g...</td>\n    </tr>\n    <tr>\n      <th>18</th>\n      <td>27</td>\n      <td>Tours of Derry</td>\n      <td>NaN</td>\n      <td>5.0</td>\n      <td>City Tours • Historical &amp; Heritage Tours • Wal...</td>\n      <td>https://dynamic-media-cdn.tripadvisor.com/medi...</td>\n      <td>0</td>\n      <td>0</td>\n      <td>0</td>\n      <td>3</td>\n      <td>204</td>\n      <td>207</td>\n      <td>https://www.tripadvisor.ie/Attraction_Review-g...</td>\n    </tr>\n    <tr>\n      <th>19</th>\n      <td>25</td>\n      <td>Portrush Surf School</td>\n      <td>NaN</td>\n      <td>5.0</td>\n      <td>Surfing &amp; Windsurfing • Stand Up Paddleboarding</td>\n      <td>https://dynamic-media-cdn.tripadvisor.com/medi...</td>\n      <td>0</td>\n      <td>0</td>\n      <td>0</td>\n      <td>4</td>\n      <td>231</td>\n      <td>235</td>\n      <td>https://www.tripadvisor.ie/Attraction_Review-g...</td>\n    </tr>\n    <tr>\n      <th>20</th>\n      <td>26</td>\n      <td>Ulster Aviation Society</td>\n      <td>WHO ARE WE? A charitable society that is a div...</td>\n      <td>5.0</td>\n      <td>Speciality Museums</td>\n      <td>https://dynamic-media-cdn.tripadvisor.com/medi...</td>\n      <td>0</td>\n      <td>0</td>\n      <td>0</td>\n      <td>6</td>\n      <td>417</td>\n      <td>423</td>\n      <td>https://www.tripadvisor.ie/Attraction_Review-g...</td>\n    </tr>\n    <tr>\n      <th>21</th>\n      <td>22</td>\n      <td>Alive Adventures</td>\n      <td>NaN</td>\n      <td>5.0</td>\n      <td>Surfing &amp; Windsurfing</td>\n      <td>https://dynamic-media-cdn.tripadvisor.com/medi...</td>\n      <td>0</td>\n      <td>2</td>\n      <td>1</td>\n      <td>13</td>\n      <td>704</td>\n      <td>720</td>\n      <td>https://www.tripadvisor.ie/Attraction_Review-g...</td>\n    </tr>\n  </tbody>\n</table>\n</div>"
     },
     "execution_count": 119,
     "metadata": {},
     "output_type": "execute_result"
    }
   ],
   "source": [
    "data.head(20)"
   ],
   "metadata": {
    "collapsed": false,
    "ExecuteTime": {
     "start_time": "2023-04-03T17:37:28.857690Z",
     "end_time": "2023-04-03T17:37:28.882237Z"
    }
   }
  },
  {
   "cell_type": "code",
   "execution_count": 120,
   "outputs": [],
   "source": [
    "data = data.drop(data[data['Categories'].str.contains('Tours')].index)\n",
    "data = data.drop(data[data['Title'].str.contains('School')].index)\n",
    "data = data.drop(data[data['Categories'].str.contains('Equipment Hire')].index)\n",
    "data = data.drop(data[data['Categories'].str.contains('Spas')].index)\n",
    "data = data.drop(data[data['Categories'].str.contains('Information Center')].index)\n",
    "data = data.drop(data[data['Categories'].str.contains('Shops')].index)\n",
    "data = data.drop(data[data['Categories'].str.contains('Escape')].index)\n",
    "data = data.drop(data[data['Categories'].str.contains('Taxis')].index)\n",
    "data = data.drop(data[data['Categories'].str.contains('Kayaking')].index)\n",
    "data = data.drop(data[data['Categories'].str.contains('Malls')].index)\n",
    "data = data.drop(data[data['Categories'].str.contains('Department Stores')].index)\n",
    "data = data.drop(data[data['Categories'].str.contains('Dinner Theatres')].index)"
   ],
   "metadata": {
    "collapsed": false,
    "ExecuteTime": {
     "start_time": "2023-04-03T17:37:28.881237Z",
     "end_time": "2023-04-03T17:37:28.936236Z"
    }
   }
  },
  {
   "cell_type": "code",
   "execution_count": 121,
   "outputs": [
    {
     "data": {
      "text/plain": "    ID                                              Title  \\\n0    1                             Kilmainham Gaol Museum   \n1    7                         Jameson Distillery Bow St.   \n2    8  Experience Glasnevin - Ireland's National Ceme...   \n3    9   The Book of Kells and the Old Library Exhibition   \n4    5                               Irish Whiskey Museum   \n5    6                                  St Stephens Green   \n6   10                            Killarney National Park   \n7    4                                    Cliffs of Moher   \n9   17                                       Spike Island   \n10   3                                Guinness Storehouse   \n11   2                        The Little Museum of Dublin   \n13  18                                14 Henrietta Street   \n14  16                                     Chester Beatty   \n17  15                                         Temple Bar   \n20  26                            Ulster Aviation Society   \n21  22                                   Alive Adventures   \n25  59                                           Sky Road   \n26  60                                      Eagles Flying   \n27  58        Molly Gallivan's Cottage & Traditional Farm   \n28  56         The Jeanie Johnston: An Irish Famine Story   \n\n                                                About  Score  \\\n0   This bleak old jail was notorious in the 19th ...    4.5   \n1   Since John Jameson's brave first steps into th...    4.5   \n2   The stories of 1.5 million people are faithful...    4.5   \n3   The Book of Kells Exhibition is a must-see on ...    4.5   \n4   Irish whiskey is fast becoming one of the most...    5.0   \n5   Beautiful urban park immortalized in James Joy...    4.5   \n6                                                 NaN    5.0   \n7   Spectacular cliffs stretching 700 feet over th...    4.5   \n9   Discover Ireland's Captains & Convicts and Sin...    5.0   \n10  Say cheers at the Guinness Storehouse in Dubli...    4.5   \n11  Discover the amazing story of Dublin in this q...    4.5   \n13  WINNER OF THE EUROPEAN MUSEUM OF THE YEAR SILL...    5.0   \n14  FREE Admission. Described by Lonely Planet as ...    4.5   \n17  Funky shops, eclectic cafes and hordes of styl...    4.0   \n20  WHO ARE WE? A charitable society that is a div...    5.0   \n21                                                NaN    5.0   \n25                                                NaN    4.5   \n26  Eagles Flying is a scientifically run Wildlife...    5.0   \n27  Molly Gallivan’s cottage and traditional farm ...    4.5   \n28  The Jeanie Johnston tells the story of the tho...    4.5   \n\n                                           Categories  \\\n0                 Speciality Museums • Historic Sites   \n1                                        Distilleries   \n2                     Speciality Museums • Cemeteries   \n3          Points of Interest & Landmarks • Libraries   \n4                                  Speciality Museums   \n5                                               Parks   \n6                                      National Parks   \n7   Points of Interest & Landmarks • Lookouts • Ge...   \n9                                             Islands   \n10                Speciality Museums • Historic Sites   \n11               Speciality Museums • History Museums   \n13                   Historic Sites • History Museums   \n14                                        Art Museums   \n17    Neighbourhoods • Points of Interest & Landmarks   \n20                                 Speciality Museums   \n21                              Surfing & Windsurfing   \n25                     Points of Interest & Landmarks   \n26                            Nature & Wildlife Areas   \n27    Historic Sites • Historic Walking Areas • Farms   \n28               Speciality Museums • History Museums   \n\n                                              img_url      1      2      3  \\\n0   https://dynamic-media-cdn.tripadvisor.com/medi...    234    259  1,231   \n1   https://dynamic-media-cdn.tripadvisor.com/medi...    165    271    861   \n2   https://dynamic-media-cdn.tripadvisor.com/medi...     16     33    246   \n3   https://dynamic-media-cdn.tripadvisor.com/medi...    344    775  2,940   \n4   https://dynamic-media-cdn.tripadvisor.com/medi...     54     62    286   \n5   https://dynamic-media-cdn.tripadvisor.com/medi...     35     65    997   \n6   https://dynamic-media-cdn.tripadvisor.com/medi...     10      7     86   \n7   https://dynamic-media-cdn.tripadvisor.com/medi...    187    184    663   \n9   https://dynamic-media-cdn.tripadvisor.com/medi...     31     12     49   \n10  https://dynamic-media-cdn.tripadvisor.com/medi...  1,124  1,933  5,938   \n11  https://dynamic-media-cdn.tripadvisor.com/medi...     60    144    470   \n13  https://dynamic-media-cdn.tripadvisor.com/medi...      5      4     13   \n14  https://dynamic-media-cdn.tripadvisor.com/medi...      7     26    156   \n17  https://dynamic-media-cdn.tripadvisor.com/medi...    559    783  2,642   \n20  https://dynamic-media-cdn.tripadvisor.com/medi...      0      0      0   \n21  https://dynamic-media-cdn.tripadvisor.com/medi...      0      2      1   \n25  https://dynamic-media-cdn.tripadvisor.com/medi...      3      9     74   \n26  https://dynamic-media-cdn.tripadvisor.com/medi...      2      3      6   \n27  https://dynamic-media-cdn.tripadvisor.com/medi...      9      4     29   \n28  https://dynamic-media-cdn.tripadvisor.com/medi...     12     29     96   \n\n         4       5 total_reviews  \\\n0    5,926  19,627        27,277   \n1    2,757   7,394        11,445   \n2    1,182   5,660         7,135   \n3    6,392  13,242        23,691   \n4    1,286   9,377        11,064   \n5    5,345  10,434        16,876   \n6    1,067   6,118         7,288   \n7    2,322  11,174        14,530   \n9      460   2,457         3,008   \n10  12,947  25,980        47,919   \n11   1,839  10,706        13,215   \n13      77   1,317         1,414   \n14     891   3,028         4,108   \n17   6,480  10,331        20,795   \n20       6     417           423   \n21      13     704           720   \n25     418   1,611         2,115   \n26      45     722           778   \n27     186     863         1,091   \n28     452   1,210         1,799   \n\n                                               TA_url  \n0   https://www.tripadvisor.ie/Attraction_Review-g...  \n1   https://www.tripadvisor.ie/Attraction_Review-g...  \n2   https://www.tripadvisor.ie/Attraction_Review-g...  \n3   https://www.tripadvisor.ie/Attraction_Review-g...  \n4   https://www.tripadvisor.ie/Attraction_Review-g...  \n5   https://www.tripadvisor.ie/Attraction_Review-g...  \n6   https://www.tripadvisor.ie/Attraction_Review-g...  \n7   https://www.tripadvisor.ie/Attraction_Review-g...  \n9   https://www.tripadvisor.ie/Attraction_Review-g...  \n10  https://www.tripadvisor.ie/Attraction_Review-g...  \n11  https://www.tripadvisor.ie/Attraction_Review-g...  \n13  https://www.tripadvisor.ie/Attraction_Review-g...  \n14  https://www.tripadvisor.ie/Attraction_Review-g...  \n17  https://www.tripadvisor.ie/Attraction_Review-g...  \n20  https://www.tripadvisor.ie/Attraction_Review-g...  \n21  https://www.tripadvisor.ie/Attraction_Review-g...  \n25  https://www.tripadvisor.ie/Attraction_Review-g...  \n26  https://www.tripadvisor.ie/Attraction_Review-g...  \n27  https://www.tripadvisor.ie/Attraction_Review-g...  \n28  https://www.tripadvisor.ie/Attraction_Review-g...  ",
      "text/html": "<div>\n<style scoped>\n    .dataframe tbody tr th:only-of-type {\n        vertical-align: middle;\n    }\n\n    .dataframe tbody tr th {\n        vertical-align: top;\n    }\n\n    .dataframe thead th {\n        text-align: right;\n    }\n</style>\n<table border=\"1\" class=\"dataframe\">\n  <thead>\n    <tr style=\"text-align: right;\">\n      <th></th>\n      <th>ID</th>\n      <th>Title</th>\n      <th>About</th>\n      <th>Score</th>\n      <th>Categories</th>\n      <th>img_url</th>\n      <th>1</th>\n      <th>2</th>\n      <th>3</th>\n      <th>4</th>\n      <th>5</th>\n      <th>total_reviews</th>\n      <th>TA_url</th>\n    </tr>\n  </thead>\n  <tbody>\n    <tr>\n      <th>0</th>\n      <td>1</td>\n      <td>Kilmainham Gaol Museum</td>\n      <td>This bleak old jail was notorious in the 19th ...</td>\n      <td>4.5</td>\n      <td>Speciality Museums • Historic Sites</td>\n      <td>https://dynamic-media-cdn.tripadvisor.com/medi...</td>\n      <td>234</td>\n      <td>259</td>\n      <td>1,231</td>\n      <td>5,926</td>\n      <td>19,627</td>\n      <td>27,277</td>\n      <td>https://www.tripadvisor.ie/Attraction_Review-g...</td>\n    </tr>\n    <tr>\n      <th>1</th>\n      <td>7</td>\n      <td>Jameson Distillery Bow St.</td>\n      <td>Since John Jameson's brave first steps into th...</td>\n      <td>4.5</td>\n      <td>Distilleries</td>\n      <td>https://dynamic-media-cdn.tripadvisor.com/medi...</td>\n      <td>165</td>\n      <td>271</td>\n      <td>861</td>\n      <td>2,757</td>\n      <td>7,394</td>\n      <td>11,445</td>\n      <td>https://www.tripadvisor.ie/Attraction_Review-g...</td>\n    </tr>\n    <tr>\n      <th>2</th>\n      <td>8</td>\n      <td>Experience Glasnevin - Ireland's National Ceme...</td>\n      <td>The stories of 1.5 million people are faithful...</td>\n      <td>4.5</td>\n      <td>Speciality Museums • Cemeteries</td>\n      <td>https://dynamic-media-cdn.tripadvisor.com/medi...</td>\n      <td>16</td>\n      <td>33</td>\n      <td>246</td>\n      <td>1,182</td>\n      <td>5,660</td>\n      <td>7,135</td>\n      <td>https://www.tripadvisor.ie/Attraction_Review-g...</td>\n    </tr>\n    <tr>\n      <th>3</th>\n      <td>9</td>\n      <td>The Book of Kells and the Old Library Exhibition</td>\n      <td>The Book of Kells Exhibition is a must-see on ...</td>\n      <td>4.5</td>\n      <td>Points of Interest &amp; Landmarks • Libraries</td>\n      <td>https://dynamic-media-cdn.tripadvisor.com/medi...</td>\n      <td>344</td>\n      <td>775</td>\n      <td>2,940</td>\n      <td>6,392</td>\n      <td>13,242</td>\n      <td>23,691</td>\n      <td>https://www.tripadvisor.ie/Attraction_Review-g...</td>\n    </tr>\n    <tr>\n      <th>4</th>\n      <td>5</td>\n      <td>Irish Whiskey Museum</td>\n      <td>Irish whiskey is fast becoming one of the most...</td>\n      <td>5.0</td>\n      <td>Speciality Museums</td>\n      <td>https://dynamic-media-cdn.tripadvisor.com/medi...</td>\n      <td>54</td>\n      <td>62</td>\n      <td>286</td>\n      <td>1,286</td>\n      <td>9,377</td>\n      <td>11,064</td>\n      <td>https://www.tripadvisor.ie/Attraction_Review-g...</td>\n    </tr>\n    <tr>\n      <th>5</th>\n      <td>6</td>\n      <td>St Stephens Green</td>\n      <td>Beautiful urban park immortalized in James Joy...</td>\n      <td>4.5</td>\n      <td>Parks</td>\n      <td>https://dynamic-media-cdn.tripadvisor.com/medi...</td>\n      <td>35</td>\n      <td>65</td>\n      <td>997</td>\n      <td>5,345</td>\n      <td>10,434</td>\n      <td>16,876</td>\n      <td>https://www.tripadvisor.ie/Attraction_Review-g...</td>\n    </tr>\n    <tr>\n      <th>6</th>\n      <td>10</td>\n      <td>Killarney National Park</td>\n      <td>NaN</td>\n      <td>5.0</td>\n      <td>National Parks</td>\n      <td>https://dynamic-media-cdn.tripadvisor.com/medi...</td>\n      <td>10</td>\n      <td>7</td>\n      <td>86</td>\n      <td>1,067</td>\n      <td>6,118</td>\n      <td>7,288</td>\n      <td>https://www.tripadvisor.ie/Attraction_Review-g...</td>\n    </tr>\n    <tr>\n      <th>7</th>\n      <td>4</td>\n      <td>Cliffs of Moher</td>\n      <td>Spectacular cliffs stretching 700 feet over th...</td>\n      <td>4.5</td>\n      <td>Points of Interest &amp; Landmarks • Lookouts • Ge...</td>\n      <td>https://dynamic-media-cdn.tripadvisor.com/medi...</td>\n      <td>187</td>\n      <td>184</td>\n      <td>663</td>\n      <td>2,322</td>\n      <td>11,174</td>\n      <td>14,530</td>\n      <td>https://www.tripadvisor.ie/Attraction_Review-g...</td>\n    </tr>\n    <tr>\n      <th>9</th>\n      <td>17</td>\n      <td>Spike Island</td>\n      <td>Discover Ireland's Captains &amp; Convicts and Sin...</td>\n      <td>5.0</td>\n      <td>Islands</td>\n      <td>https://dynamic-media-cdn.tripadvisor.com/medi...</td>\n      <td>31</td>\n      <td>12</td>\n      <td>49</td>\n      <td>460</td>\n      <td>2,457</td>\n      <td>3,008</td>\n      <td>https://www.tripadvisor.ie/Attraction_Review-g...</td>\n    </tr>\n    <tr>\n      <th>10</th>\n      <td>3</td>\n      <td>Guinness Storehouse</td>\n      <td>Say cheers at the Guinness Storehouse in Dubli...</td>\n      <td>4.5</td>\n      <td>Speciality Museums • Historic Sites</td>\n      <td>https://dynamic-media-cdn.tripadvisor.com/medi...</td>\n      <td>1,124</td>\n      <td>1,933</td>\n      <td>5,938</td>\n      <td>12,947</td>\n      <td>25,980</td>\n      <td>47,919</td>\n      <td>https://www.tripadvisor.ie/Attraction_Review-g...</td>\n    </tr>\n    <tr>\n      <th>11</th>\n      <td>2</td>\n      <td>The Little Museum of Dublin</td>\n      <td>Discover the amazing story of Dublin in this q...</td>\n      <td>4.5</td>\n      <td>Speciality Museums • History Museums</td>\n      <td>https://dynamic-media-cdn.tripadvisor.com/medi...</td>\n      <td>60</td>\n      <td>144</td>\n      <td>470</td>\n      <td>1,839</td>\n      <td>10,706</td>\n      <td>13,215</td>\n      <td>https://www.tripadvisor.ie/Attraction_Review-g...</td>\n    </tr>\n    <tr>\n      <th>13</th>\n      <td>18</td>\n      <td>14 Henrietta Street</td>\n      <td>WINNER OF THE EUROPEAN MUSEUM OF THE YEAR SILL...</td>\n      <td>5.0</td>\n      <td>Historic Sites • History Museums</td>\n      <td>https://dynamic-media-cdn.tripadvisor.com/medi...</td>\n      <td>5</td>\n      <td>4</td>\n      <td>13</td>\n      <td>77</td>\n      <td>1,317</td>\n      <td>1,414</td>\n      <td>https://www.tripadvisor.ie/Attraction_Review-g...</td>\n    </tr>\n    <tr>\n      <th>14</th>\n      <td>16</td>\n      <td>Chester Beatty</td>\n      <td>FREE Admission. Described by Lonely Planet as ...</td>\n      <td>4.5</td>\n      <td>Art Museums</td>\n      <td>https://dynamic-media-cdn.tripadvisor.com/medi...</td>\n      <td>7</td>\n      <td>26</td>\n      <td>156</td>\n      <td>891</td>\n      <td>3,028</td>\n      <td>4,108</td>\n      <td>https://www.tripadvisor.ie/Attraction_Review-g...</td>\n    </tr>\n    <tr>\n      <th>17</th>\n      <td>15</td>\n      <td>Temple Bar</td>\n      <td>Funky shops, eclectic cafes and hordes of styl...</td>\n      <td>4.0</td>\n      <td>Neighbourhoods • Points of Interest &amp; Landmarks</td>\n      <td>https://dynamic-media-cdn.tripadvisor.com/medi...</td>\n      <td>559</td>\n      <td>783</td>\n      <td>2,642</td>\n      <td>6,480</td>\n      <td>10,331</td>\n      <td>20,795</td>\n      <td>https://www.tripadvisor.ie/Attraction_Review-g...</td>\n    </tr>\n    <tr>\n      <th>20</th>\n      <td>26</td>\n      <td>Ulster Aviation Society</td>\n      <td>WHO ARE WE? A charitable society that is a div...</td>\n      <td>5.0</td>\n      <td>Speciality Museums</td>\n      <td>https://dynamic-media-cdn.tripadvisor.com/medi...</td>\n      <td>0</td>\n      <td>0</td>\n      <td>0</td>\n      <td>6</td>\n      <td>417</td>\n      <td>423</td>\n      <td>https://www.tripadvisor.ie/Attraction_Review-g...</td>\n    </tr>\n    <tr>\n      <th>21</th>\n      <td>22</td>\n      <td>Alive Adventures</td>\n      <td>NaN</td>\n      <td>5.0</td>\n      <td>Surfing &amp; Windsurfing</td>\n      <td>https://dynamic-media-cdn.tripadvisor.com/medi...</td>\n      <td>0</td>\n      <td>2</td>\n      <td>1</td>\n      <td>13</td>\n      <td>704</td>\n      <td>720</td>\n      <td>https://www.tripadvisor.ie/Attraction_Review-g...</td>\n    </tr>\n    <tr>\n      <th>25</th>\n      <td>59</td>\n      <td>Sky Road</td>\n      <td>NaN</td>\n      <td>4.5</td>\n      <td>Points of Interest &amp; Landmarks</td>\n      <td>https://dynamic-media-cdn.tripadvisor.com/medi...</td>\n      <td>3</td>\n      <td>9</td>\n      <td>74</td>\n      <td>418</td>\n      <td>1,611</td>\n      <td>2,115</td>\n      <td>https://www.tripadvisor.ie/Attraction_Review-g...</td>\n    </tr>\n    <tr>\n      <th>26</th>\n      <td>60</td>\n      <td>Eagles Flying</td>\n      <td>Eagles Flying is a scientifically run Wildlife...</td>\n      <td>5.0</td>\n      <td>Nature &amp; Wildlife Areas</td>\n      <td>https://dynamic-media-cdn.tripadvisor.com/medi...</td>\n      <td>2</td>\n      <td>3</td>\n      <td>6</td>\n      <td>45</td>\n      <td>722</td>\n      <td>778</td>\n      <td>https://www.tripadvisor.ie/Attraction_Review-g...</td>\n    </tr>\n    <tr>\n      <th>27</th>\n      <td>58</td>\n      <td>Molly Gallivan's Cottage &amp; Traditional Farm</td>\n      <td>Molly Gallivan’s cottage and traditional farm ...</td>\n      <td>4.5</td>\n      <td>Historic Sites • Historic Walking Areas • Farms</td>\n      <td>https://dynamic-media-cdn.tripadvisor.com/medi...</td>\n      <td>9</td>\n      <td>4</td>\n      <td>29</td>\n      <td>186</td>\n      <td>863</td>\n      <td>1,091</td>\n      <td>https://www.tripadvisor.ie/Attraction_Review-g...</td>\n    </tr>\n    <tr>\n      <th>28</th>\n      <td>56</td>\n      <td>The Jeanie Johnston: An Irish Famine Story</td>\n      <td>The Jeanie Johnston tells the story of the tho...</td>\n      <td>4.5</td>\n      <td>Speciality Museums • History Museums</td>\n      <td>https://dynamic-media-cdn.tripadvisor.com/medi...</td>\n      <td>12</td>\n      <td>29</td>\n      <td>96</td>\n      <td>452</td>\n      <td>1,210</td>\n      <td>1,799</td>\n      <td>https://www.tripadvisor.ie/Attraction_Review-g...</td>\n    </tr>\n  </tbody>\n</table>\n</div>"
     },
     "execution_count": 121,
     "metadata": {},
     "output_type": "execute_result"
    }
   ],
   "source": [
    "data.head(20)"
   ],
   "metadata": {
    "collapsed": false,
    "ExecuteTime": {
     "start_time": "2023-04-03T17:37:28.917234Z",
     "end_time": "2023-04-03T17:37:28.983034Z"
    }
   }
  },
  {
   "cell_type": "code",
   "execution_count": 122,
   "outputs": [
    {
     "data": {
      "text/plain": "(534, 13)"
     },
     "execution_count": 122,
     "metadata": {},
     "output_type": "execute_result"
    }
   ],
   "source": [
    "data.shape"
   ],
   "metadata": {
    "collapsed": false,
    "ExecuteTime": {
     "start_time": "2023-04-03T17:37:28.940240Z",
     "end_time": "2023-04-03T17:37:29.031035Z"
    }
   }
  },
  {
   "cell_type": "code",
   "execution_count": 123,
   "outputs": [
    {
     "data": {
      "text/plain": "    user_ID  loc_ID  rating\n0     13431       9     5.0\n1     42470       9     5.0\n2      1704       9     5.0\n3     43381       9     2.0\n4     24282       9     5.0\n5     51362       9     2.0\n6     11735       9     2.0\n7      1434       9     5.0\n8     42812       9     5.0\n9     10867       9     3.0\n10    19273      11     4.0\n11    30044      11     4.0\n12     3760      11     5.0\n13    29964      11     5.0\n14    34924      11     5.0\n15     6339      11     2.0\n16    55190      11     5.0\n17    17548      11     5.0\n18    38840      11     5.0\n19    11689      11     5.0",
      "text/html": "<div>\n<style scoped>\n    .dataframe tbody tr th:only-of-type {\n        vertical-align: middle;\n    }\n\n    .dataframe tbody tr th {\n        vertical-align: top;\n    }\n\n    .dataframe thead th {\n        text-align: right;\n    }\n</style>\n<table border=\"1\" class=\"dataframe\">\n  <thead>\n    <tr style=\"text-align: right;\">\n      <th></th>\n      <th>user_ID</th>\n      <th>loc_ID</th>\n      <th>rating</th>\n    </tr>\n  </thead>\n  <tbody>\n    <tr>\n      <th>0</th>\n      <td>13431</td>\n      <td>9</td>\n      <td>5.0</td>\n    </tr>\n    <tr>\n      <th>1</th>\n      <td>42470</td>\n      <td>9</td>\n      <td>5.0</td>\n    </tr>\n    <tr>\n      <th>2</th>\n      <td>1704</td>\n      <td>9</td>\n      <td>5.0</td>\n    </tr>\n    <tr>\n      <th>3</th>\n      <td>43381</td>\n      <td>9</td>\n      <td>2.0</td>\n    </tr>\n    <tr>\n      <th>4</th>\n      <td>24282</td>\n      <td>9</td>\n      <td>5.0</td>\n    </tr>\n    <tr>\n      <th>5</th>\n      <td>51362</td>\n      <td>9</td>\n      <td>2.0</td>\n    </tr>\n    <tr>\n      <th>6</th>\n      <td>11735</td>\n      <td>9</td>\n      <td>2.0</td>\n    </tr>\n    <tr>\n      <th>7</th>\n      <td>1434</td>\n      <td>9</td>\n      <td>5.0</td>\n    </tr>\n    <tr>\n      <th>8</th>\n      <td>42812</td>\n      <td>9</td>\n      <td>5.0</td>\n    </tr>\n    <tr>\n      <th>9</th>\n      <td>10867</td>\n      <td>9</td>\n      <td>3.0</td>\n    </tr>\n    <tr>\n      <th>10</th>\n      <td>19273</td>\n      <td>11</td>\n      <td>4.0</td>\n    </tr>\n    <tr>\n      <th>11</th>\n      <td>30044</td>\n      <td>11</td>\n      <td>4.0</td>\n    </tr>\n    <tr>\n      <th>12</th>\n      <td>3760</td>\n      <td>11</td>\n      <td>5.0</td>\n    </tr>\n    <tr>\n      <th>13</th>\n      <td>29964</td>\n      <td>11</td>\n      <td>5.0</td>\n    </tr>\n    <tr>\n      <th>14</th>\n      <td>34924</td>\n      <td>11</td>\n      <td>5.0</td>\n    </tr>\n    <tr>\n      <th>15</th>\n      <td>6339</td>\n      <td>11</td>\n      <td>2.0</td>\n    </tr>\n    <tr>\n      <th>16</th>\n      <td>55190</td>\n      <td>11</td>\n      <td>5.0</td>\n    </tr>\n    <tr>\n      <th>17</th>\n      <td>17548</td>\n      <td>11</td>\n      <td>5.0</td>\n    </tr>\n    <tr>\n      <th>18</th>\n      <td>38840</td>\n      <td>11</td>\n      <td>5.0</td>\n    </tr>\n    <tr>\n      <th>19</th>\n      <td>11689</td>\n      <td>11</td>\n      <td>5.0</td>\n    </tr>\n  </tbody>\n</table>\n</div>"
     },
     "execution_count": 123,
     "metadata": {},
     "output_type": "execute_result"
    }
   ],
   "source": [
    "data2 = pd.read_csv('UserItemDBx.csv')\n",
    "data2.head(20)"
   ],
   "metadata": {
    "collapsed": false,
    "ExecuteTime": {
     "start_time": "2023-04-03T17:37:28.957320Z",
     "end_time": "2023-04-03T17:37:29.125628Z"
    }
   }
  },
  {
   "cell_type": "code",
   "execution_count": 124,
   "outputs": [
    {
     "data": {
      "text/plain": "(32230, 3)"
     },
     "execution_count": 124,
     "metadata": {},
     "output_type": "execute_result"
    }
   ],
   "source": [
    "data2.shape"
   ],
   "metadata": {
    "collapsed": false,
    "ExecuteTime": {
     "start_time": "2023-04-03T17:37:28.989033Z",
     "end_time": "2023-04-03T17:37:29.125628Z"
    }
   }
  },
  {
   "cell_type": "code",
   "execution_count": 125,
   "outputs": [],
   "source": [
    "data2 = data2[data2['loc_ID'].isin(data['ID'])]"
   ],
   "metadata": {
    "collapsed": false,
    "ExecuteTime": {
     "start_time": "2023-04-03T17:37:29.004038Z",
     "end_time": "2023-04-03T17:37:29.125628Z"
    }
   }
  },
  {
   "cell_type": "code",
   "execution_count": 126,
   "outputs": [
    {
     "data": {
      "text/plain": "(20990, 3)"
     },
     "execution_count": 126,
     "metadata": {},
     "output_type": "execute_result"
    }
   ],
   "source": [
    "data2.shape"
   ],
   "metadata": {
    "collapsed": false,
    "ExecuteTime": {
     "start_time": "2023-04-03T17:37:29.020037Z",
     "end_time": "2023-04-03T17:37:29.125628Z"
    }
   }
  },
  {
   "cell_type": "code",
   "execution_count": 127,
   "outputs": [
    {
     "name": "stdout",
     "output_type": "stream",
     "text": [
      "0                                 Kilmainham Gaol Museum\n",
      "1                             Jameson Distillery Bow St.\n",
      "2      Experience Glasnevin - Ireland's National Ceme...\n",
      "3       The Book of Kells and the Old Library Exhibition\n",
      "4                                   Irish Whiskey Museum\n",
      "                             ...                        \n",
      "825                                          Dick Mack's\n",
      "827                                            Tig Coili\n",
      "828                                Esker Hills Golf Club\n",
      "829                                               Narosa\n",
      "830                               Aquaholics Dive Centre\n",
      "Name: Title, Length: 534, dtype: object\n"
     ]
    }
   ],
   "source": [
    "print(data['Title'])"
   ],
   "metadata": {
    "collapsed": false,
    "ExecuteTime": {
     "start_time": "2023-04-03T17:37:29.035037Z",
     "end_time": "2023-04-03T17:37:29.171680Z"
    }
   }
  },
  {
   "cell_type": "code",
   "execution_count": 128,
   "outputs": [
    {
     "data": {
      "text/plain": "0                                 Kilmainham Gaol Museum\n1                             Jameson Distillery Bow St.\n2      Experience Glasnevin - Ireland's National Ceme...\n3       The Book of Kells and the Old Library Exhibition\n4                                   Irish Whiskey Museum\n                             ...                        \n825                                          Dick Mack's\n827                                            Tig Coili\n828                                Esker Hills Golf Club\n829                                               Narosa\n830                               Aquaholics Dive Centre\nName: Title, Length: 534, dtype: object"
     },
     "execution_count": 128,
     "metadata": {},
     "output_type": "execute_result"
    }
   ],
   "source": [
    "data['Title']"
   ],
   "metadata": {
    "collapsed": false,
    "ExecuteTime": {
     "start_time": "2023-04-03T17:37:29.053032Z",
     "end_time": "2023-04-03T17:37:29.203243Z"
    }
   }
  },
  {
   "cell_type": "code",
   "execution_count": 129,
   "outputs": [
    {
     "name": "stdout",
     "output_type": "stream",
     "text": [
      "Aquaholics Dive Centre || Scuba & Snorkelling ||\n",
      " https://www.tripadvisor.ie/Attraction_Review-g209963-d1985570-Reviews-Aquaholics_Dive_Centre-Portstewart_County_Londonderry_Northern_Ireland.html\n"
     ]
    }
   ],
   "source": [
    "n = 830\n",
    "print(data['Title'][n],'||',data['Categories'][n],'||\\n', data['TA_url'][n] )\n",
    "\n"
   ],
   "metadata": {
    "collapsed": false,
    "ExecuteTime": {
     "start_time": "2023-04-03T17:37:29.069086Z",
     "end_time": "2023-04-03T17:37:29.203243Z"
    }
   }
  },
  {
   "cell_type": "code",
   "execution_count": 131,
   "outputs": [],
   "source": [
    "data2 = data2[data2['loc_ID'].isin(data['ID'])]\n",
    "\n",
    "\n",
    "data.to_csv('LocationsDBs.csv', index=False)\n",
    "data2.to_csv('UserItemDBs.csv', index=False)"
   ],
   "metadata": {
    "collapsed": false,
    "ExecuteTime": {
     "start_time": "2023-04-03T17:43:51.664341Z",
     "end_time": "2023-04-03T17:43:51.735524Z"
    }
   }
  },
  {
   "cell_type": "code",
   "execution_count": null,
   "outputs": [],
   "source": [],
   "metadata": {
    "collapsed": false
   }
  }
 ],
 "metadata": {
  "kernelspec": {
   "display_name": "Python 3",
   "language": "python",
   "name": "python3"
  },
  "language_info": {
   "codemirror_mode": {
    "name": "ipython",
    "version": 2
   },
   "file_extension": ".py",
   "mimetype": "text/x-python",
   "name": "python",
   "nbconvert_exporter": "python",
   "pygments_lexer": "ipython2",
   "version": "2.7.6"
  }
 },
 "nbformat": 4,
 "nbformat_minor": 0
}
